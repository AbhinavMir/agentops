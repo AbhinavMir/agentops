{
 "cells": [
  {
   "cell_type": "markdown",
   "source": [
    "# Multi-Agent Support\n",
    "This is an example implementation of tracking events from two separate agents"
   ],
   "metadata": {
    "collapsed": false
   },
   "id": "5174deb10f4d50d8"
  },
  {
   "cell_type": "code",
   "outputs": [],
   "source": [
    "import agentops\n",
    "from dotenv import load_dotenv\n",
    "import os\n",
    "import openai\n",
    "\n",
    "from IPython.display import display, Markdown"
   ],
   "metadata": {
    "collapsed": false,
    "ExecuteTime": {
     "end_time": "2024-02-29T00:15:00.183541Z",
     "start_time": "2024-02-29T00:15:00.180405Z"
    }
   },
   "id": "6ee18004656b1375",
   "execution_count": 9
  },
  {
   "cell_type": "code",
   "outputs": [],
   "source": [
    "load_dotenv()\n",
    "OPENAI_API_KEY = os.getenv('OPENAI_API_KEY') or \"<your_openai_key>\"\n",
    "AGENTOPS_API_KEY = os.getenv('AGENTOPS_API_KEY') or \"<your_agentops_key>\""
   ],
   "metadata": {
    "collapsed": false,
    "ExecuteTime": {
     "end_time": "2024-02-28T23:56:40.907432Z",
     "start_time": "2024-02-28T23:56:40.903449Z"
    }
   },
   "id": "5e6f3c7a7e3098da",
   "execution_count": 2
  },
  {
   "cell_type": "code",
   "outputs": [],
   "source": [
    "ao_client = agentops.Client(AGENTOPS_API_KEY)\n",
    "openai.api_key = OPENAI_API_KEY"
   ],
   "metadata": {
    "collapsed": false,
    "ExecuteTime": {
     "end_time": "2024-02-28T23:56:41.015463Z",
     "start_time": "2024-02-28T23:56:40.905788Z"
    }
   },
   "id": "a7cd27594e54337d",
   "execution_count": 3
  },
  {
   "cell_type": "markdown",
   "source": [
    "Now lets create a few agents!"
   ],
   "metadata": {
    "collapsed": false
   },
   "id": "6876d79437e9e28a"
  },
  {
   "cell_type": "code",
   "outputs": [],
   "source": [
    "qa = ao_client.create_agent('qa')\n",
    "engineer = ao_client.create_agent('engineer')"
   ],
   "metadata": {
    "collapsed": false,
    "ExecuteTime": {
     "end_time": "2024-02-28T23:56:41.183910Z",
     "start_time": "2024-02-28T23:56:41.015630Z"
    }
   },
   "id": "3f9c7939fd7288d9",
   "execution_count": 4
  },
  {
   "cell_type": "code",
   "outputs": [],
   "source": [
    "message = {\"role\": \"user\", \"content\": \"Write a python function that accepts two numbers and multiplies them together, then divides by two. No example.\"},\n",
    "func_response = engineer.chat_completion(model='gpt-3.5-turbo', messages=message, temperature=0.5)\n",
    "generated_func = func_response.choices[0].message.content"
   ],
   "metadata": {
    "collapsed": false,
    "ExecuteTime": {
     "end_time": "2024-02-29T00:16:00.885372Z",
     "start_time": "2024-02-29T00:15:57.737700Z"
    }
   },
   "id": "f0dba147173ec872",
   "execution_count": 13
  },
  {
   "cell_type": "code",
   "outputs": [
    {
     "data": {
      "text/plain": "<IPython.core.display.Markdown object>",
      "text/markdown": "```python\ndef multiply_and_divide_by_two(num1, num2):\n    result = (num1 * num2) / 2\n    return result\n```"
     },
     "metadata": {},
     "output_type": "display_data"
    }
   ],
   "source": [
    "display(Markdown('```python\\n' + generated_func + '\\n```'))"
   ],
   "metadata": {
    "collapsed": false,
    "ExecuteTime": {
     "end_time": "2024-02-29T00:16:01.503781Z",
     "start_time": "2024-02-29T00:16:01.501992Z"
    }
   },
   "id": "1ad5f4f3842e650d",
   "execution_count": 14
  },
  {
   "cell_type": "markdown",
   "source": [
    "Now let's have our QA engineer create a unit test for this function"
   ],
   "metadata": {
    "collapsed": false
   },
   "id": "a111ac98138d0c14"
  },
  {
   "cell_type": "code",
   "outputs": [],
   "source": [
    "message = {\"role\": \"user\", \"content\": \"Write a python unit test that test the following function: \\n \" + generated_func},\n",
    "qa_response = qa.chat_completion(model='gpt-3.5-turbo', messages=message, temperature=0.5)\n",
    "generated_test = qa_response.choices[0].message.content"
   ],
   "metadata": {
    "collapsed": false,
    "ExecuteTime": {
     "end_time": "2024-02-29T00:16:16.041799Z",
     "start_time": "2024-02-29T00:16:13.514904Z"
    }
   },
   "id": "bbefa88b8808b8b",
   "execution_count": 15
  },
  {
   "cell_type": "code",
   "outputs": [
    {
     "data": {
      "text/plain": "<IPython.core.display.Markdown object>",
      "text/markdown": "```python\nimport unittest\n\ndef multiply_and_divide_by_two(num1, num2):\n    result = (num1 * num2) / 2\n    return result\n\nclass TestMultiplyAndDivideByTwo(unittest.TestCase):\n    def test_multiply_and_divide_by_two(self):\n        self.assertEqual(multiply_and_divide_by_two(2, 4), 4)\n        self.assertEqual(multiply_and_divide_by_two(0, 10), 0)\n        self.assertEqual(multiply_and_divide_by_two(5, 3), 7.5)\n        self.assertEqual(multiply_and_divide_by_two(10, 2), 10)\n\nif __name__ == '__main__':\n    unittest.main()\n```"
     },
     "metadata": {},
     "output_type": "display_data"
    }
   ],
   "source": [
    "display(Markdown('```python\\n' + generated_test + '\\n```'))"
   ],
   "metadata": {
    "collapsed": false,
    "ExecuteTime": {
     "end_time": "2024-02-29T00:16:16.045817Z",
     "start_time": "2024-02-29T00:16:16.042678Z"
    }
   },
   "id": "7585358f50b8d9c",
   "execution_count": 16
  },
  {
   "cell_type": "code",
   "outputs": [],
   "source": [],
   "metadata": {
    "collapsed": false
   },
   "id": "f05fbe85ead2b261"
  }
 ],
 "metadata": {
  "kernelspec": {
   "display_name": "Python 3",
   "language": "python",
   "name": "python3"
  },
  "language_info": {
   "codemirror_mode": {
    "name": "ipython",
    "version": 2
   },
   "file_extension": ".py",
   "mimetype": "text/x-python",
   "name": "python",
   "nbconvert_exporter": "python",
   "pygments_lexer": "ipython2",
   "version": "2.7.6"
  }
 },
 "nbformat": 4,
 "nbformat_minor": 5
}
