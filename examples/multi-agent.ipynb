{
 "cells": [
  {
   "cell_type": "markdown",
   "source": [
    "# Multi-Agent Support\n",
    "This is an example implementation of tracking events from two separate agents"
   ],
   "metadata": {
    "collapsed": false
   },
   "id": "5174deb10f4d50d8"
  },
  {
   "cell_type": "code",
   "outputs": [],
   "source": [
    "import agentops\n",
    "from dotenv import load_dotenv\n",
    "import os\n",
    "import openai\n",
    "\n",
    "from IPython.display import display, Markdown"
   ],
   "metadata": {
    "collapsed": false,
    "ExecuteTime": {
     "end_time": "2024-02-29T00:59:05.856002Z",
     "start_time": "2024-02-29T00:59:05.604185Z"
    }
   },
   "id": "6ee18004656b1375",
   "execution_count": 1
  },
  {
   "cell_type": "code",
   "outputs": [],
   "source": [
    "load_dotenv()\n",
    "OPENAI_API_KEY = os.getenv('OPENAI_API_KEY') or \"<your_openai_key>\"\n",
    "AGENTOPS_API_KEY = os.getenv('AGENTOPS_API_KEY') or \"<your_agentops_key>\""
   ],
   "metadata": {
    "collapsed": false,
    "ExecuteTime": {
     "end_time": "2024-02-29T00:59:05.860502Z",
     "start_time": "2024-02-29T00:59:05.857180Z"
    }
   },
   "id": "5e6f3c7a7e3098da",
   "execution_count": 2
  },
  {
   "cell_type": "code",
   "outputs": [],
   "source": [
    "ao_client = agentops.Client(AGENTOPS_API_KEY)\n",
    "openai.api_key = OPENAI_API_KEY"
   ],
   "metadata": {
    "collapsed": false,
    "ExecuteTime": {
     "end_time": "2024-02-29T00:59:05.974770Z",
     "start_time": "2024-02-29T00:59:05.860344Z"
    }
   },
   "id": "a7cd27594e54337d",
   "execution_count": 3
  },
  {
   "cell_type": "markdown",
   "source": [
    "Now lets create a few agents!"
   ],
   "metadata": {
    "collapsed": false
   },
   "id": "6876d79437e9e28a"
  },
  {
   "cell_type": "code",
   "outputs": [],
   "source": [
    "qa = ao_client.create_agent('qa')\n",
    "engineer = ao_client.create_agent('engineer')"
   ],
   "metadata": {
    "collapsed": false,
    "ExecuteTime": {
     "end_time": "2024-02-29T00:59:06.133310Z",
     "start_time": "2024-02-29T00:59:05.976493Z"
    }
   },
   "id": "3f9c7939fd7288d9",
   "execution_count": 4
  },
  {
   "cell_type": "code",
   "outputs": [],
   "source": [
    "message = {\"role\": \"user\", \"content\": \"Write a python function that accepts two numbers and multiplies them together, then divides by two. No example.\"},\n",
    "func_response = engineer.chat_completion(model='gpt-3.5-turbo', messages=message, temperature=0.5)\n",
    "generated_func = func_response.choices[0].message.content"
   ],
   "metadata": {
    "collapsed": false,
    "ExecuteTime": {
     "end_time": "2024-02-29T00:59:06.968271Z",
     "start_time": "2024-02-29T00:59:06.134681Z"
    }
   },
   "id": "f0dba147173ec872",
   "execution_count": 5
  },
  {
   "cell_type": "code",
   "outputs": [
    {
     "data": {
      "text/plain": "<IPython.core.display.Markdown object>",
      "text/markdown": "```python\ndef multiply_and_divide(num1, num2):\n    result = (num1 * num2) / 2\n    return result\n```"
     },
     "metadata": {},
     "output_type": "display_data"
    }
   ],
   "source": [
    "display(Markdown('```python\\n' + generated_func + '\\n```'))"
   ],
   "metadata": {
    "collapsed": false,
    "ExecuteTime": {
     "end_time": "2024-02-29T00:59:06.976170Z",
     "start_time": "2024-02-29T00:59:06.970105Z"
    }
   },
   "id": "1ad5f4f3842e650d",
   "execution_count": 6
  },
  {
   "cell_type": "markdown",
   "source": [
    "Now let's have our QA engineer create a unit test for this function"
   ],
   "metadata": {
    "collapsed": false
   },
   "id": "a111ac98138d0c14"
  },
  {
   "cell_type": "code",
   "outputs": [],
   "source": [
    "message = {\"role\": \"user\", \"content\": \"Write a python unit test that test the following function: \\n \" + generated_func},\n",
    "qa_response = qa.chat_completion(model='gpt-3.5-turbo', messages=message, temperature=0.5)\n",
    "generated_test = qa_response.choices[0].message.content"
   ],
   "metadata": {
    "collapsed": false,
    "ExecuteTime": {
     "end_time": "2024-02-29T00:59:09.754626Z",
     "start_time": "2024-02-29T00:59:06.974930Z"
    }
   },
   "id": "bbefa88b8808b8b",
   "execution_count": 7
  },
  {
   "cell_type": "code",
   "outputs": [
    {
     "data": {
      "text/plain": "<IPython.core.display.Markdown object>",
      "text/markdown": "```python\nimport unittest\n\ndef multiply_and_divide(num1, num2):\n    result = (num1 * num2) / 2\n    return result\n\nclass TestMultiplyAndDivide(unittest.TestCase):\n\n    def test_multiply_and_divide(self):\n        self.assertEqual(multiply_and_divide(2, 3), 3)\n        self.assertEqual(multiply_and_divide(5, 5), 12.5)\n        self.assertEqual(multiply_and_divide(0, 10), 0)\n        self.assertEqual(multiply_and_divide(-4, 8), -16)\n\nif __name__ == '__main__':\n    unittest.main()\n```"
     },
     "metadata": {},
     "output_type": "display_data"
    }
   ],
   "source": [
    "display(Markdown('```python\\n' + generated_test + '\\n```'))"
   ],
   "metadata": {
    "collapsed": false,
    "ExecuteTime": {
     "end_time": "2024-02-29T00:59:09.759162Z",
     "start_time": "2024-02-29T00:59:09.754303Z"
    }
   },
   "id": "7585358f50b8d9c",
   "execution_count": 8
  }
 ],
 "metadata": {
  "kernelspec": {
   "display_name": "Python 3",
   "language": "python",
   "name": "python3"
  },
  "language_info": {
   "codemirror_mode": {
    "name": "ipython",
    "version": 2
   },
   "file_extension": ".py",
   "mimetype": "text/x-python",
   "name": "python",
   "nbconvert_exporter": "python",
   "pygments_lexer": "ipython2",
   "version": "2.7.6"
  }
 },
 "nbformat": 4,
 "nbformat_minor": 5
}
