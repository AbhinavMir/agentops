{
 "cells": [
  {
   "cell_type": "markdown",
   "source": [
    "# AgentOps Langchain Agent Implementation\n",
    "\n",
    "Using AgentOps monitoring with Langchain is simple. We've created a LangchainCallbackHandler that will do all of the heavy lifting!\n",
    "\n",
    "First we'll import the typical Langchain packages:"
   ],
   "metadata": {
    "collapsed": false
   },
   "id": "e0deea1ab1db2a19"
  },
  {
   "cell_type": "code",
   "execution_count": 1,
   "id": "initial_id",
   "metadata": {
    "collapsed": true,
    "ExecuteTime": {
     "end_time": "2023-12-15T18:00:15.853166Z",
     "start_time": "2023-12-15T18:00:14.651483Z"
    }
   },
   "outputs": [
    {
     "name": "stderr",
     "output_type": "stream",
     "text": [
      "/Library/Python/3.9/site-packages/urllib3/__init__.py:34: NotOpenSSLWarning: urllib3 v2 only supports OpenSSL 1.1.1+, currently the 'ssl' module is compiled with 'LibreSSL 2.8.3'. See: https://github.com/urllib3/urllib3/issues/3020\n",
      "  warnings.warn(\n"
     ]
    }
   ],
   "source": [
    "import os\n",
    "from langchain.chat_models import ChatOpenAI\n",
    "from langchain.agents import initialize_agent, AgentType\n",
    "from dotenv import load_dotenv"
   ]
  },
  {
   "cell_type": "markdown",
   "source": [
    "The only difference with using AgentOps is that we'll also import this special Callback Handler"
   ],
   "metadata": {
    "collapsed": false
   },
   "id": "57ddb8eca4e8a3cb"
  },
  {
   "cell_type": "code",
   "execution_count": 2,
   "outputs": [],
   "source": [
    "from agentops.langchain_callback_handler import LangchainCallbackHandler"
   ],
   "metadata": {
    "collapsed": false,
    "ExecuteTime": {
     "end_time": "2023-12-15T18:00:15.861201Z",
     "start_time": "2023-12-15T18:00:15.854596Z"
    }
   },
   "id": "585f00bb186711a7"
  },
  {
   "cell_type": "markdown",
   "source": [
    "Next, we'll grab our two API keys. You can use dotenv like below or however else you like to load environment variables"
   ],
   "metadata": {
    "collapsed": false
   },
   "id": "523be945b85dc5d5"
  },
  {
   "cell_type": "code",
   "execution_count": 3,
   "outputs": [],
   "source": [
    "load_dotenv()\n",
    "OPENAI_API_KEY = os.getenv('OPENAI_API_KEY')\n",
    "AGENTOPS_API_KEY = os.getenv('AGENTOPS_API_KEY')"
   ],
   "metadata": {
    "collapsed": false,
    "ExecuteTime": {
     "end_time": "2023-12-15T18:00:15.865514Z",
     "start_time": "2023-12-15T18:00:15.861478Z"
    }
   },
   "id": "1490411415d7317c"
  },
  {
   "cell_type": "markdown",
   "source": [
    "This is where AgentOps comes into play. Before creating our LLM instance via Langchain, first we'll create an instance of the AO LangchainCallbackHandler.\n",
    "\n",
    "Pass in your API key, and optionally any tags to describe this session for easier lookup in the AO dashboard. You can also retrieve the `session_id` of the newly created session."
   ],
   "metadata": {
    "collapsed": false
   },
   "id": "8371ec020e634dd0"
  },
  {
   "cell_type": "code",
   "execution_count": 4,
   "outputs": [
    {
     "name": "stdout",
     "output_type": "stream",
     "text": [
      "Agent Ops session ID: 3c9deaa9-577c-49ac-9783-e7d0b0fecfbd\n"
     ]
    }
   ],
   "source": [
    "handler = LangchainCallbackHandler(api_key=AGENTOPS_API_KEY, tags=['Langchain Example'])\n",
    "print(\"Agent Ops session ID: \" + handler.session_id)\n",
    "llm = ChatOpenAI(openai_api_key=OPENAI_API_KEY, callbacks=[handler])"
   ],
   "metadata": {
    "collapsed": false,
    "ExecuteTime": {
     "end_time": "2023-12-15T18:00:16.808358Z",
     "start_time": "2023-12-15T18:00:15.865350Z"
    }
   },
   "id": "432921383f39c9d5"
  },
  {
   "cell_type": "markdown",
   "source": [
    "Finally, let's use our agent! All of the actions will be recorded in the AO Dashboard"
   ],
   "metadata": {
    "collapsed": false
   },
   "id": "58bbca0b49302b2b"
  },
  {
   "cell_type": "code",
   "execution_count": 5,
   "outputs": [],
   "source": [
    "agent = initialize_agent([],\n",
    "                         llm,\n",
    "                         agent=AgentType.CHAT_ZERO_SHOT_REACT_DESCRIPTION,\n",
    "                         verbose=True,\n",
    "                         handle_parsing_errors=True)"
   ],
   "metadata": {
    "collapsed": false,
    "ExecuteTime": {
     "end_time": "2023-12-15T18:00:16.812313Z",
     "start_time": "2023-12-15T18:00:16.809585Z"
    }
   },
   "id": "d538b20aa954ee80"
  },
  {
   "cell_type": "code",
   "execution_count": 6,
   "outputs": [
    {
     "name": "stdout",
     "output_type": "stream",
     "text": [
      "\n",
      "\n",
      "\u001B[1m> Entering new AgentExecutor chain...\u001B[0m\n",
      "\u001B[32;1m\u001B[1;3mSure! Here's a short poem about secret agents:\n",
      "\n",
      "In shadows they dwell, unseen by the eye,\n",
      "Masters of disguise, their secrets held high.\n",
      "They weave through the night, like whispers in air,\n",
      "Agents of mystery, with skills beyond compare.\n",
      "\n",
      "With steady hands, they handle the unknown,\n",
      "Unraveling secrets, their cover not blown.\n",
      "They traverse the globe, in search of the truth,\n",
      "Stealthily moving, like shadows of youth.\n",
      "\n",
      "Their mission, you ask? To protect and defend,\n",
      "The world's safety, until the very end.\n",
      "With gadgets and wit, they outsmart their foes,\n",
      "Silent warriors, where nobody knows.\n",
      "\n",
      "In dark alleys they gather, plans tightly knit,\n",
      "Their loyalty unwavering, they never quit.\n",
      "For justice they fight, with honor and grace,\n",
      "A secret agent's life, a dangerous embrace.\n",
      "\n",
      "So raise your glass to these guardians unseen,\n",
      "The heroes of shadows, in suits so pristine.\n",
      "They sacrifice all, for a world that's unknown,\n",
      "Secret agents, silent heroes, never alone.\n",
      "\n",
      "Final Answer: Secret agents, guardians of the night,\n",
      "A poem to honor their courage and might.\u001B[0m\n",
      "\n",
      "\u001B[1m> Finished chain.\u001B[0m\n"
     ]
    },
    {
     "data": {
      "text/plain": "'Secret agents, guardians of the night,\\nA poem to honor their courage and might.'"
     },
     "execution_count": 6,
     "metadata": {},
     "output_type": "execute_result"
    }
   ],
   "source": [
    "agent.run(\"Please write me a short poem about secret agents\")"
   ],
   "metadata": {
    "collapsed": false,
    "ExecuteTime": {
     "end_time": "2023-12-15T18:00:22.740852Z",
     "start_time": "2023-12-15T18:00:16.812664Z"
    }
   },
   "id": "6dfb127553751384"
  }
 ],
 "metadata": {
  "kernelspec": {
   "display_name": "Python 3",
   "language": "python",
   "name": "python3"
  },
  "language_info": {
   "codemirror_mode": {
    "name": "ipython",
    "version": 2
   },
   "file_extension": ".py",
   "mimetype": "text/x-python",
   "name": "python",
   "nbconvert_exporter": "python",
   "pygments_lexer": "ipython2",
   "version": "2.7.6"
  }
 },
 "nbformat": 4,
 "nbformat_minor": 5
}
