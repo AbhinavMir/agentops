{
 "cells": [
  {
   "cell_type": "markdown",
   "source": [
    "# AgentOps Langchain Agent Implementation\n",
    "\n",
    "Using AgentOps monitoring with Langchain is simple. We've created a LangchainCallbackHandler that will do all of the heavy lifting!\n",
    "\n",
    "First we'll import the typical Langchain packages:"
   ],
   "metadata": {
    "collapsed": false
   },
   "id": "e0deea1ab1db2a19"
  },
  {
   "cell_type": "code",
   "execution_count": 1,
   "id": "initial_id",
   "metadata": {
    "collapsed": true,
    "ExecuteTime": {
     "end_time": "2023-12-15T20:21:11.477270Z",
     "start_time": "2023-12-15T20:21:10.289895Z"
    }
   },
   "outputs": [
    {
     "name": "stderr",
     "output_type": "stream",
     "text": [
      "/Users/braelynboynton/Developer/agentops/venv/lib/python3.9/site-packages/urllib3/__init__.py:34: NotOpenSSLWarning: urllib3 v2 only supports OpenSSL 1.1.1+, currently the 'ssl' module is compiled with 'LibreSSL 2.8.3'. See: https://github.com/urllib3/urllib3/issues/3020\n",
      "  warnings.warn(\n"
     ]
    }
   ],
   "source": [
    "import os\n",
    "from langchain.chat_models import ChatOpenAI\n",
    "from langchain.agents import initialize_agent, AgentType\n",
    "from dotenv import load_dotenv"
   ]
  },
  {
   "cell_type": "markdown",
   "source": [
    "The only difference with using AgentOps is that we'll also import this special Callback Handler"
   ],
   "metadata": {
    "collapsed": false
   },
   "id": "57ddb8eca4e8a3cb"
  },
  {
   "cell_type": "code",
   "execution_count": 2,
   "outputs": [],
   "source": [
    "from agentops.langchain_callback_handler import LangchainCallbackHandler"
   ],
   "metadata": {
    "collapsed": false,
    "ExecuteTime": {
     "end_time": "2023-12-15T20:21:11.478111Z",
     "start_time": "2023-12-15T20:21:11.471462Z"
    }
   },
   "id": "585f00bb186711a7"
  },
  {
   "cell_type": "markdown",
   "source": [
    "Next, we'll grab our two API keys. You can use dotenv like below or however else you like to load environment variables"
   ],
   "metadata": {
    "collapsed": false
   },
   "id": "523be945b85dc5d5"
  },
  {
   "cell_type": "code",
   "execution_count": 3,
   "outputs": [],
   "source": [
    "load_dotenv()\n",
    "OPENAI_API_KEY = os.getenv('OPENAI_API_KEY')\n",
    "AGENTOPS_API_KEY = os.getenv('AGENTOPS_API_KEY')"
   ],
   "metadata": {
    "collapsed": false,
    "ExecuteTime": {
     "end_time": "2023-12-15T20:21:11.494019Z",
     "start_time": "2023-12-15T20:21:11.479154Z"
    }
   },
   "id": "1490411415d7317c"
  },
  {
   "cell_type": "markdown",
   "source": [
    "This is where AgentOps comes into play. Before creating our LLM instance via Langchain, first we'll create an instance of the AO LangchainCallbackHandler.\n",
    "\n",
    "Pass in your API key, and optionally any tags to describe this session for easier lookup in the AO dashboard. You can also retrieve the `session_id` of the newly created session."
   ],
   "metadata": {
    "collapsed": false
   },
   "id": "8371ec020e634dd0"
  },
  {
   "cell_type": "code",
   "execution_count": 4,
   "outputs": [
    {
     "name": "stdout",
     "output_type": "stream",
     "text": [
      "Agent Ops session ID: 0feeb023-d8eb-4eae-9c77-29c2a3c88b38\n"
     ]
    }
   ],
   "source": [
    "handler = LangchainCallbackHandler(api_key=AGENTOPS_API_KEY, tags=['Langchain Example'])\n",
    "print(\"Agent Ops session ID: \" + handler.session_id)\n",
    "llm = ChatOpenAI(openai_api_key=OPENAI_API_KEY, callbacks=[handler])"
   ],
   "metadata": {
    "collapsed": false,
    "ExecuteTime": {
     "end_time": "2023-12-15T20:21:12.346995Z",
     "start_time": "2023-12-15T20:21:11.483591Z"
    }
   },
   "id": "432921383f39c9d5"
  },
  {
   "cell_type": "markdown",
   "source": [
    "Finally, let's use our agent! All the actions will be recorded in the AO Dashboard"
   ],
   "metadata": {
    "collapsed": false
   },
   "id": "58bbca0b49302b2b"
  },
  {
   "cell_type": "code",
   "execution_count": 5,
   "outputs": [],
   "source": [
    "agent = initialize_agent([],\n",
    "                         llm,\n",
    "                         agent=AgentType.CHAT_ZERO_SHOT_REACT_DESCRIPTION,\n",
    "                         verbose=True,\n",
    "                         handle_parsing_errors=True)"
   ],
   "metadata": {
    "collapsed": false,
    "ExecuteTime": {
     "end_time": "2023-12-15T20:21:12.352862Z",
     "start_time": "2023-12-15T20:21:12.351126Z"
    }
   },
   "id": "d538b20aa954ee80"
  },
  {
   "cell_type": "code",
   "execution_count": null,
   "outputs": [],
   "source": [
    "agent.run(\"Please write me a short poem about secret agents\")"
   ],
   "metadata": {
    "collapsed": false
   },
   "id": "6dfb127553751384"
  }
 ],
 "metadata": {
  "kernelspec": {
   "display_name": "Python 3",
   "language": "python",
   "name": "python3"
  },
  "language_info": {
   "codemirror_mode": {
    "name": "ipython",
    "version": 2
   },
   "file_extension": ".py",
   "mimetype": "text/x-python",
   "name": "python",
   "nbconvert_exporter": "python",
   "pygments_lexer": "ipython2",
   "version": "2.7.6"
  }
 },
 "nbformat": 4,
 "nbformat_minor": 5
}
